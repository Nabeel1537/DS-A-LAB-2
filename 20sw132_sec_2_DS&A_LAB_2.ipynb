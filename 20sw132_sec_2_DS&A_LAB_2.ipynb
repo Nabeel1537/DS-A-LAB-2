{
  "nbformat": 4,
  "nbformat_minor": 0,
  "metadata": {
    "colab": {
      "provenance": [],
      "authorship_tag": "ABX9TyO7//ySR2P0tX8WTWzkncWe",
      "include_colab_link": true
    },
    "kernelspec": {
      "name": "python3",
      "display_name": "Python 3"
    },
    "language_info": {
      "name": "python"
    }
  },
  "cells": [
    {
      "cell_type": "markdown",
      "metadata": {
        "id": "view-in-github",
        "colab_type": "text"
      },
      "source": [
        "<a href=\"https://colab.research.google.com/github/Nabeel1537/DS-A-LAB-2/blob/main/20sw132_sec_2_DS%26A_LAB_2.ipynb\" target=\"_parent\"><img src=\"https://colab.research.google.com/assets/colab-badge.svg\" alt=\"Open In Colab\"/></a>"
      ]
    },
    {
      "cell_type": "markdown",
      "source": [
        "TASK 2"
      ],
      "metadata": {
        "id": "CtLwJkMSPZ8Y"
      }
    },
    {
      "cell_type": "code",
      "execution_count": 11,
      "metadata": {
        "colab": {
          "base_uri": "https://localhost:8080/"
        },
        "id": "dMZfzs-0Mx8v",
        "outputId": "a3dc0099-b041-46ab-e5e6-6c4c22da66de"
      },
      "outputs": [
        {
          "output_type": "stream",
          "name": "stdout",
          "text": [
            "enter your number for player:45\n",
            "enter your number for guessing the number:65\n",
            "Oops! Your guess was too high.\n"
          ]
        }
      ],
      "source": [
        "# Store the number you want to hide from the user\n",
        "answer = input(\"enter your number for player:\")\n",
        "\n",
        "# Get the guess from the user (you can modify this line to take user input)\n",
        "guess = input(\"enter your number for guessing the number:\")\n",
        "\n",
        "# Compare the guess to the answer and inform the user\n",
        "if guess < answer:\n",
        "    result = \"Oops! Your guess was too low.\"\n",
        "elif guess > answer:\n",
        "    result = \"Oops! Your guess was too high.\"\n",
        "else:\n",
        "    result = \"Nice! Your guess matched the answer!\"\n",
        "\n",
        "# Print the result\n",
        "print(result)"
      ]
    },
    {
      "cell_type": "markdown",
      "source": [
        "task 1"
      ],
      "metadata": {
        "id": "Ph8xPEwHRvyP"
      }
    },
    {
      "cell_type": "code",
      "source": [
        "num = int(input(\"enter your number:\"))\n",
        "if num>=1 and num<=50:\n",
        "  print(\"congratulations you have won wooden rabbit\")\n",
        "\n",
        "elif num>=51 and num<=150:\n",
        "  print(\"oh dear no prize this time\")\n",
        "\n",
        "elif num>=151 and num<=180:\n",
        "  print(\"congratulations you have won water thin mint\")\n",
        "elif num>=181 and num<=200:\n",
        "  print(\"congratulations you have won a penguin \")"
      ],
      "metadata": {
        "colab": {
          "base_uri": "https://localhost:8080/"
        },
        "id": "2MxRxG9gRx99",
        "outputId": "69dea451-403d-417e-c62d-e67cbfbeba79"
      },
      "execution_count": 19,
      "outputs": [
        {
          "output_type": "stream",
          "name": "stdout",
          "text": [
            "enter your number:174\n",
            "congratulations you have won water thin mint\n"
          ]
        }
      ]
    },
    {
      "cell_type": "markdown",
      "source": [
        "task 3"
      ],
      "metadata": {
        "id": "mvNZm7g9Vzn3"
      }
    },
    {
      "cell_type": "code",
      "source": [
        "def calculate_tax(purchase_amount, state):\n",
        "    # Define the tax rates for each state\n",
        "    tax_rates = {\n",
        "        'CA': 0.075,\n",
        "        'MN': 0.095,\n",
        "        'NY': 0.089,\n",
        "    }\n",
        "\n",
        "    # Check if the state is in the tax_rates dictionary\n",
        "    if state in tax_rates:\n",
        "        # Calculate the tax amount\n",
        "        tax_amount = purchase_amount * tax_rates[state]\n",
        "        # Calculate the total amount (purchase amount + tax)\n",
        "        total_amount = purchase_amount + tax_amount\n",
        "        return total_amount\n",
        "    else:\n",
        "        return \"State not found in the tax rates list.\"\n",
        "\n",
        "# Example usage:\n",
        "purchase_amount = 100.00\n",
        "state = \"CA\"\n",
        "total_amount = calculate_tax(purchase_amount, state)\n",
        "print(\"Total amount with tax: ${total_amount:.2}\")\n"
      ],
      "metadata": {
        "colab": {
          "base_uri": "https://localhost:8080/"
        },
        "id": "5fkA1opXV1-b",
        "outputId": "2bbbd464-6e59-4491-b244-5a8a18d11b64"
      },
      "execution_count": 24,
      "outputs": [
        {
          "output_type": "stream",
          "name": "stdout",
          "text": [
            "Total amount with tax: ${total_amount:.2}\n"
          ]
        }
      ]
    },
    {
      "cell_type": "markdown",
      "source": [
        "task 4"
      ],
      "metadata": {
        "id": "Vo0XyypPXwd0"
      }
    },
    {
      "cell_type": "code",
      "source": [
        "sentence = [\"the\", \"quick\", \"brown\", \"fox\", \"jumped\", \"over\", \"the\", \"lazy\", \"dog\"]\n",
        "for word in sentence:\n",
        "  print(word)"
      ],
      "metadata": {
        "colab": {
          "base_uri": "https://localhost:8080/"
        },
        "id": "QtP0o8rZXz1z",
        "outputId": "18128874-be80-4517-89a0-837685a15df8"
      },
      "execution_count": 25,
      "outputs": [
        {
          "output_type": "stream",
          "name": "stdout",
          "text": [
            "the\n",
            "quick\n",
            "brown\n",
            "fox\n",
            "jumped\n",
            "over\n",
            "the\n",
            "lazy\n",
            "dog\n"
          ]
        }
      ]
    },
    {
      "cell_type": "markdown",
      "source": [
        "task 5"
      ],
      "metadata": {
        "id": "m7E7S2v6YrEG"
      }
    },
    {
      "cell_type": "code",
      "source": [
        "for number in range(5,31,5):\n",
        "  print(number)"
      ],
      "metadata": {
        "colab": {
          "base_uri": "https://localhost:8080/"
        },
        "id": "k4qySEpUZCAY",
        "outputId": "0a6a960f-4657-4924-e42e-512b9318bc38"
      },
      "execution_count": 27,
      "outputs": [
        {
          "output_type": "stream",
          "name": "stdout",
          "text": [
            "5\n",
            "10\n",
            "15\n",
            "20\n",
            "25\n",
            "30\n"
          ]
        }
      ]
    },
    {
      "cell_type": "markdown",
      "source": [
        "task 6"
      ],
      "metadata": {
        "id": "7rRN5ZX1ZuZ1"
      }
    },
    {
      "cell_type": "code",
      "source": [
        "names = [\"Rick Sanchez\", \"Morty Smith\", \"Summer Smith\", \"Jerry Smith\", \"Beth Smith\"]\n",
        "\n",
        "first_names = [name.split()[0].lower() for name in names]\n",
        "\n",
        "print(first_names)"
      ],
      "metadata": {
        "colab": {
          "base_uri": "https://localhost:8080/"
        },
        "id": "LxCWWNvNZwTE",
        "outputId": "0166625e-e7fc-46c1-c0eb-05955b2debdb"
      },
      "execution_count": 28,
      "outputs": [
        {
          "output_type": "stream",
          "name": "stdout",
          "text": [
            "['rick', 'morty', 'summer', 'jerry', 'beth']\n"
          ]
        }
      ]
    },
    {
      "cell_type": "markdown",
      "source": [
        "task 7"
      ],
      "metadata": {
        "id": "fnm-uQm9aHOz"
      }
    },
    {
      "cell_type": "code",
      "source": [
        "multiples_3 = [num * 3 for num in range(1, 21)]\n",
        "print(multiples_3)"
      ],
      "metadata": {
        "colab": {
          "base_uri": "https://localhost:8080/"
        },
        "id": "99tQwP3daI5O",
        "outputId": "18b76ac5-9ff0-46a9-afcf-9c2ad117f00c"
      },
      "execution_count": 29,
      "outputs": [
        {
          "output_type": "stream",
          "name": "stdout",
          "text": [
            "[3, 6, 9, 12, 15, 18, 21, 24, 27, 30, 33, 36, 39, 42, 45, 48, 51, 54, 57, 60]\n"
          ]
        }
      ]
    },
    {
      "cell_type": "markdown",
      "source": [
        "task 8"
      ],
      "metadata": {
        "id": "YCohcRDSaWkg"
      }
    },
    {
      "cell_type": "code",
      "source": [
        "scores = {\"Rick Sanchez\": 70, \"Morty Smith\": 35, \"Summer Smith\": 82, \"Jerry Smith\": 23, \"Beth Smith\": 98}\n",
        "\n",
        "passed = [name for name, score in scores.items() if score >= 65]\n",
        "\n",
        "print(passed)\n"
      ],
      "metadata": {
        "colab": {
          "base_uri": "https://localhost:8080/"
        },
        "id": "FRfwASeYaX_r",
        "outputId": "1aa5c541-803e-4d20-d300-580cdef38da1"
      },
      "execution_count": 31,
      "outputs": [
        {
          "output_type": "stream",
          "name": "stdout",
          "text": [
            "['Rick Sanchez', 'Summer Smith', 'Beth Smith']\n"
          ]
        }
      ]
    },
    {
      "cell_type": "markdown",
      "source": [
        "task 9"
      ],
      "metadata": {
        "id": "SABe2mXha2ZY"
      }
    },
    {
      "cell_type": "code",
      "source": [
        "cast_names = [\"Barney\", \"Robin\", \"Ted\", \"Lily\", \"Marshall\"]\n",
        "cast_heights = [72, 68, 72, 66, 76]\n",
        "\n",
        "cast = dict(zip(cast_names, cast_heights))\n",
        "\n",
        "print(cast)"
      ],
      "metadata": {
        "colab": {
          "base_uri": "https://localhost:8080/"
        },
        "id": "yXL-C525a4yz",
        "outputId": "58a13156-884a-4604-ff7c-aa952df4d714"
      },
      "execution_count": 32,
      "outputs": [
        {
          "output_type": "stream",
          "name": "stdout",
          "text": [
            "{'Barney': 72, 'Robin': 68, 'Ted': 72, 'Lily': 66, 'Marshall': 76}\n"
          ]
        }
      ]
    },
    {
      "cell_type": "markdown",
      "source": [
        "task 10"
      ],
      "metadata": {
        "id": "F2XARTx7a6vU"
      }
    },
    {
      "cell_type": "code",
      "source": [
        "cast = [\"Barney Stinson\", \"Robin Scherbatsky\", \"Ted Mosby\", \"Lily Aldrin\", \"Marshall Eriksen\"]\n",
        "heights = [72, 68, 72, 66, 76]\n",
        "\n",
        "for index, name in enumerate(cast):\n",
        "    cast[index] = name + str(heights[index])\n",
        "\n",
        "print(cast)"
      ],
      "metadata": {
        "colab": {
          "base_uri": "https://localhost:8080/"
        },
        "id": "YnKqWJ8xbSUR",
        "outputId": "0aab3672-d681-4b1f-c2a3-ed6d35745ec4"
      },
      "execution_count": 33,
      "outputs": [
        {
          "output_type": "stream",
          "name": "stdout",
          "text": [
            "['Barney Stinson72', 'Robin Scherbatsky68', 'Ted Mosby72', 'Lily Aldrin66', 'Marshall Eriksen76']\n"
          ]
        }
      ]
    }
  ]
}